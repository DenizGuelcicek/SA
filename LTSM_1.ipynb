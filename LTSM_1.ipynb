{
  "nbformat": 4,
  "nbformat_minor": 0,
  "metadata": {
    "colab": {
      "name": "LTSM.ipynb",
      "provenance": [],
      "authorship_tag": "ABX9TyNVucvhGTlIYnu2mXkf+t+D",
      "include_colab_link": true
    },
    "kernelspec": {
      "name": "python3",
      "display_name": "Python 3"
    },
    "language_info": {
      "name": "python"
    }
  },
  "cells": [
    {
      "cell_type": "markdown",
      "metadata": {
        "id": "view-in-github",
        "colab_type": "text"
      },
      "source": [
        "<a href=\"https://colab.research.google.com/github/DenizGuelcicek/SA/blob/master/LTSM_1.ipynb\" target=\"_parent\"><img src=\"https://colab.research.google.com/assets/colab-badge.svg\" alt=\"Open In Colab\"/></a>"
      ]
    },
    {
      "cell_type": "code",
      "metadata": {
        "id": "T71JkDVQrbzd"
      },
      "source": [
        "# https://towardsdatascience.com/lstm-time-series-forecasting-predicting-stock-prices-using-an-lstm-model-6223e9644a2f"
      ],
      "execution_count": null,
      "outputs": []
    },
    {
      "cell_type": "code",
      "metadata": {
        "id": "72fK0JlTrk5V"
      },
      "source": [
        "import math\n",
        "import matplotlib.pyplot as plt\n",
        "import keras\n",
        "import pandas as pd\n",
        "import numpy as np\n",
        "from keras.models import Sequential\n",
        "from keras.layers import Dense\n",
        "from keras.layers import LSTM\n",
        "from keras.layers import Dropout\n",
        "from keras.layers import *\n",
        "from sklearn.preprocessing import MinMaxScaler\n",
        "from sklearn.metrics import mean_squared_error\n",
        "from sklearn.metrics import mean_absolute_error\n",
        "from sklearn.model_selection import train_test_split\n",
        "from keras.callbacks import EarlyStopping\n"
      ],
      "execution_count": 2,
      "outputs": []
    },
    {
      "cell_type": "code",
      "metadata": {
        "colab": {
          "base_uri": "https://localhost:8080/",
          "height": 204
        },
        "id": "kkn797zLrvOH",
        "outputId": "019e20f1-9ac0-41b0-c17f-baa7cb4e4952"
      },
      "source": [
        "df = pd.read_csv(\"TSLA.csv\")\n",
        "df.tail(5)"
      ],
      "execution_count": 13,
      "outputs": [
        {
          "output_type": "execute_result",
          "data": {
            "text/html": [
              "<div>\n",
              "<style scoped>\n",
              "    .dataframe tbody tr th:only-of-type {\n",
              "        vertical-align: middle;\n",
              "    }\n",
              "\n",
              "    .dataframe tbody tr th {\n",
              "        vertical-align: top;\n",
              "    }\n",
              "\n",
              "    .dataframe thead th {\n",
              "        text-align: right;\n",
              "    }\n",
              "</style>\n",
              "<table border=\"1\" class=\"dataframe\">\n",
              "  <thead>\n",
              "    <tr style=\"text-align: right;\">\n",
              "      <th></th>\n",
              "      <th>Date</th>\n",
              "      <th>Open</th>\n",
              "      <th>High</th>\n",
              "      <th>Low</th>\n",
              "      <th>Close</th>\n",
              "      <th>Adj Close</th>\n",
              "      <th>Volume</th>\n",
              "    </tr>\n",
              "  </thead>\n",
              "  <tbody>\n",
              "    <tr>\n",
              "      <th>1254</th>\n",
              "      <td>2020-07-02</td>\n",
              "      <td>244.296005</td>\n",
              "      <td>245.600006</td>\n",
              "      <td>237.119995</td>\n",
              "      <td>241.731995</td>\n",
              "      <td>241.731995</td>\n",
              "      <td>86250500</td>\n",
              "    </tr>\n",
              "    <tr>\n",
              "      <th>1255</th>\n",
              "      <td>2020-07-06</td>\n",
              "      <td>255.337997</td>\n",
              "      <td>275.558014</td>\n",
              "      <td>253.207993</td>\n",
              "      <td>274.316010</td>\n",
              "      <td>274.316010</td>\n",
              "      <td>102849500</td>\n",
              "    </tr>\n",
              "    <tr>\n",
              "      <th>1256</th>\n",
              "      <td>2020-07-07</td>\n",
              "      <td>281.002014</td>\n",
              "      <td>285.899994</td>\n",
              "      <td>267.342010</td>\n",
              "      <td>277.971985</td>\n",
              "      <td>277.971985</td>\n",
              "      <td>107448500</td>\n",
              "    </tr>\n",
              "    <tr>\n",
              "      <th>1257</th>\n",
              "      <td>2020-07-08</td>\n",
              "      <td>281.000000</td>\n",
              "      <td>283.451996</td>\n",
              "      <td>262.268005</td>\n",
              "      <td>273.175995</td>\n",
              "      <td>273.175995</td>\n",
              "      <td>81556500</td>\n",
              "    </tr>\n",
              "    <tr>\n",
              "      <th>1258</th>\n",
              "      <td>2020-07-09</td>\n",
              "      <td>279.398010</td>\n",
              "      <td>281.712006</td>\n",
              "      <td>270.256012</td>\n",
              "      <td>278.855988</td>\n",
              "      <td>278.855988</td>\n",
              "      <td>58588000</td>\n",
              "    </tr>\n",
              "  </tbody>\n",
              "</table>\n",
              "</div>"
            ],
            "text/plain": [
              "            Date        Open        High  ...       Close   Adj Close     Volume\n",
              "1254  2020-07-02  244.296005  245.600006  ...  241.731995  241.731995   86250500\n",
              "1255  2020-07-06  255.337997  275.558014  ...  274.316010  274.316010  102849500\n",
              "1256  2020-07-07  281.002014  285.899994  ...  277.971985  277.971985  107448500\n",
              "1257  2020-07-08  281.000000  283.451996  ...  273.175995  273.175995   81556500\n",
              "1258  2020-07-09  279.398010  281.712006  ...  278.855988  278.855988   58588000\n",
              "\n",
              "[5 rows x 7 columns]"
            ]
          },
          "metadata": {},
          "execution_count": 13
        }
      ]
    },
    {
      "cell_type": "code",
      "metadata": {
        "colab": {
          "base_uri": "https://localhost:8080/"
        },
        "id": "xuQB7FdFrrcs",
        "outputId": "0adf721b-0d9b-4b54-9ef4-93d1ed6a1638"
      },
      "source": [
        "print(\"Number of rows and columns:\", df.shape)\n"
      ],
      "execution_count": 8,
      "outputs": [
        {
          "output_type": "stream",
          "name": "stdout",
          "text": [
            "Number of rows and columns: (1259, 7)\n"
          ]
        }
      ]
    },
    {
      "cell_type": "code",
      "metadata": {
        "id": "CRwgJYvosTyl"
      },
      "source": [
        "#split the data into training and test sets \n",
        "##target value = Close stock price \n",
        "training_set = df.iloc[:800, 1:2].values\n",
        "test_set = df.iloc[800:, 1:2].values"
      ],
      "execution_count": 9,
      "outputs": []
    },
    {
      "cell_type": "code",
      "metadata": {
        "id": "ykBPFe7csjwO"
      },
      "source": [
        "#normalize the data \n",
        "# Feature Scaling\n",
        "sc = MinMaxScaler(feature_range = (0, 1))\n",
        "training_set_scaled = sc.fit_transform(training_set)\n",
        "# Creating a data structure with 60 time-steps and 1 output\n",
        "X_train = []\n",
        "y_train = []\n",
        "for i in range(60, 800):\n",
        "    X_train.append(training_set_scaled[i-60:i, 0])\n",
        "    y_train.append(training_set_scaled[i, 0])\n",
        "X_train, y_train = np.array(X_train), np.array(y_train)\n",
        "X_train = np.reshape(X_train, (X_train.shape[0], X_train.shape[1], 1))\n",
        "#(740, 60, 1)"
      ],
      "execution_count": 10,
      "outputs": []
    },
    {
      "cell_type": "code",
      "metadata": {
        "colab": {
          "base_uri": "https://localhost:8080/"
        },
        "id": "enz1NvjYtFW0",
        "outputId": "8c7a0d4e-a873-47e6-c5b8-215abf2beda7"
      },
      "source": [
        "#Build the LSTM with 50 neurons and 4 hidden layers. \n",
        "model = Sequential()\n",
        "#Adding the first LSTM layer and some Dropout regularisation\n",
        "model.add(LSTM(units = 50, return_sequences = True, input_shape = (X_train.shape[1], 1)))\n",
        "model.add(Dropout(0.2))\n",
        "# Adding a second LSTM layer and some Dropout regularisation\n",
        "model.add(LSTM(units = 50, return_sequences = True))\n",
        "model.add(Dropout(0.2))\n",
        "# Adding a third LSTM layer and some Dropout regularisation\n",
        "model.add(LSTM(units = 50, return_sequences = True))\n",
        "model.add(Dropout(0.2))\n",
        "# Adding a fourth LSTM layer and some Dropout regularisation\n",
        "model.add(LSTM(units = 50))\n",
        "model.add(Dropout(0.2))\n",
        "# Adding the output layer\n",
        "model.add(Dense(units = 1))\n",
        "\n",
        "# Compiling the RNN\n",
        "model.compile(optimizer = 'adam', loss = 'mean_squared_error')\n",
        "\n",
        "# Fitting the RNN to the Training set\n",
        "model.fit(X_train, y_train, epochs = 100, batch_size = 32)"
      ],
      "execution_count": 12,
      "outputs": [
        {
          "output_type": "stream",
          "name": "stdout",
          "text": [
            "Epoch 1/100\n",
            "24/24 [==============================] - 10s 124ms/step - loss: 0.0633\n",
            "Epoch 2/100\n",
            "24/24 [==============================] - 3s 127ms/step - loss: 0.0165\n",
            "Epoch 3/100\n",
            "24/24 [==============================] - 3s 123ms/step - loss: 0.0149\n",
            "Epoch 4/100\n",
            "24/24 [==============================] - 3s 123ms/step - loss: 0.0133\n",
            "Epoch 5/100\n",
            "24/24 [==============================] - 3s 124ms/step - loss: 0.0120\n",
            "Epoch 6/100\n",
            "24/24 [==============================] - 3s 126ms/step - loss: 0.0113\n",
            "Epoch 7/100\n",
            "24/24 [==============================] - 3s 125ms/step - loss: 0.0129\n",
            "Epoch 8/100\n",
            "24/24 [==============================] - 3s 122ms/step - loss: 0.0118\n",
            "Epoch 9/100\n",
            "24/24 [==============================] - 3s 121ms/step - loss: 0.0104\n",
            "Epoch 10/100\n",
            "24/24 [==============================] - 3s 123ms/step - loss: 0.0102\n",
            "Epoch 11/100\n",
            "24/24 [==============================] - 3s 124ms/step - loss: 0.0096\n",
            "Epoch 12/100\n",
            "24/24 [==============================] - 3s 128ms/step - loss: 0.0089\n",
            "Epoch 13/100\n",
            "24/24 [==============================] - 3s 124ms/step - loss: 0.0094\n",
            "Epoch 14/100\n",
            "24/24 [==============================] - 3s 125ms/step - loss: 0.0084\n",
            "Epoch 15/100\n",
            "24/24 [==============================] - 3s 119ms/step - loss: 0.0081\n",
            "Epoch 16/100\n",
            "24/24 [==============================] - 3s 121ms/step - loss: 0.0088\n",
            "Epoch 17/100\n",
            "24/24 [==============================] - 3s 123ms/step - loss: 0.0080\n",
            "Epoch 18/100\n",
            "24/24 [==============================] - 3s 125ms/step - loss: 0.0073\n",
            "Epoch 19/100\n",
            "24/24 [==============================] - 3s 126ms/step - loss: 0.0075\n",
            "Epoch 20/100\n",
            "24/24 [==============================] - 3s 124ms/step - loss: 0.0074\n",
            "Epoch 21/100\n",
            "24/24 [==============================] - 3s 124ms/step - loss: 0.0077\n",
            "Epoch 22/100\n",
            "24/24 [==============================] - 3s 123ms/step - loss: 0.0071\n",
            "Epoch 23/100\n",
            "24/24 [==============================] - 3s 122ms/step - loss: 0.0076\n",
            "Epoch 24/100\n",
            "24/24 [==============================] - 3s 125ms/step - loss: 0.0085\n",
            "Epoch 25/100\n",
            "24/24 [==============================] - 3s 126ms/step - loss: 0.0072\n",
            "Epoch 26/100\n",
            "24/24 [==============================] - 3s 128ms/step - loss: 0.0072\n",
            "Epoch 27/100\n",
            "24/24 [==============================] - 3s 128ms/step - loss: 0.0071\n",
            "Epoch 28/100\n",
            "24/24 [==============================] - 3s 123ms/step - loss: 0.0060\n",
            "Epoch 29/100\n",
            "24/24 [==============================] - 3s 125ms/step - loss: 0.0057\n",
            "Epoch 30/100\n",
            "24/24 [==============================] - 3s 122ms/step - loss: 0.0061\n",
            "Epoch 31/100\n",
            "24/24 [==============================] - 3s 127ms/step - loss: 0.0066\n",
            "Epoch 32/100\n",
            "24/24 [==============================] - 3s 127ms/step - loss: 0.0057\n",
            "Epoch 33/100\n",
            "24/24 [==============================] - 3s 127ms/step - loss: 0.0062\n",
            "Epoch 34/100\n",
            "24/24 [==============================] - 3s 122ms/step - loss: 0.0057\n",
            "Epoch 35/100\n",
            "24/24 [==============================] - 3s 123ms/step - loss: 0.0062\n",
            "Epoch 36/100\n",
            "24/24 [==============================] - 3s 124ms/step - loss: 0.0057\n",
            "Epoch 37/100\n",
            "24/24 [==============================] - 3s 126ms/step - loss: 0.0056\n",
            "Epoch 38/100\n",
            "24/24 [==============================] - 3s 129ms/step - loss: 0.0057\n",
            "Epoch 39/100\n",
            "24/24 [==============================] - 3s 131ms/step - loss: 0.0050\n",
            "Epoch 40/100\n",
            "24/24 [==============================] - 3s 126ms/step - loss: 0.0053\n",
            "Epoch 41/100\n",
            "24/24 [==============================] - 3s 125ms/step - loss: 0.0053\n",
            "Epoch 42/100\n",
            "24/24 [==============================] - 3s 122ms/step - loss: 0.0054\n",
            "Epoch 43/100\n",
            "24/24 [==============================] - 3s 123ms/step - loss: 0.0051\n",
            "Epoch 44/100\n",
            "24/24 [==============================] - 3s 124ms/step - loss: 0.0056\n",
            "Epoch 45/100\n",
            "24/24 [==============================] - 3s 125ms/step - loss: 0.0058\n",
            "Epoch 46/100\n",
            "24/24 [==============================] - 3s 130ms/step - loss: 0.0047\n",
            "Epoch 47/100\n",
            "24/24 [==============================] - 3s 125ms/step - loss: 0.0047\n",
            "Epoch 48/100\n",
            "24/24 [==============================] - 3s 125ms/step - loss: 0.0054\n",
            "Epoch 49/100\n",
            "24/24 [==============================] - 3s 124ms/step - loss: 0.0047\n",
            "Epoch 50/100\n",
            "24/24 [==============================] - 3s 123ms/step - loss: 0.0044\n",
            "Epoch 51/100\n",
            "24/24 [==============================] - 3s 126ms/step - loss: 0.0048\n",
            "Epoch 52/100\n",
            "24/24 [==============================] - 3s 128ms/step - loss: 0.0055\n",
            "Epoch 53/100\n",
            "24/24 [==============================] - 3s 128ms/step - loss: 0.0040\n",
            "Epoch 54/100\n",
            "24/24 [==============================] - 3s 123ms/step - loss: 0.0054\n",
            "Epoch 55/100\n",
            "24/24 [==============================] - 3s 123ms/step - loss: 0.0044\n",
            "Epoch 56/100\n",
            "24/24 [==============================] - 3s 121ms/step - loss: 0.0041\n",
            "Epoch 57/100\n",
            "24/24 [==============================] - 3s 126ms/step - loss: 0.0055\n",
            "Epoch 58/100\n",
            "24/24 [==============================] - 3s 126ms/step - loss: 0.0044\n",
            "Epoch 59/100\n",
            "24/24 [==============================] - 3s 127ms/step - loss: 0.0041\n",
            "Epoch 60/100\n",
            "24/24 [==============================] - 3s 122ms/step - loss: 0.0040\n",
            "Epoch 61/100\n",
            "24/24 [==============================] - 3s 121ms/step - loss: 0.0041\n",
            "Epoch 62/100\n",
            "24/24 [==============================] - 3s 125ms/step - loss: 0.0041\n",
            "Epoch 63/100\n",
            "24/24 [==============================] - 3s 122ms/step - loss: 0.0036\n",
            "Epoch 64/100\n",
            "24/24 [==============================] - 3s 127ms/step - loss: 0.0043\n",
            "Epoch 65/100\n",
            "24/24 [==============================] - 3s 129ms/step - loss: 0.0052\n",
            "Epoch 66/100\n",
            "24/24 [==============================] - 3s 128ms/step - loss: 0.0037\n",
            "Epoch 67/100\n",
            "24/24 [==============================] - 3s 124ms/step - loss: 0.0036\n",
            "Epoch 68/100\n",
            "24/24 [==============================] - 3s 123ms/step - loss: 0.0035\n",
            "Epoch 69/100\n",
            "24/24 [==============================] - 3s 123ms/step - loss: 0.0038\n",
            "Epoch 70/100\n",
            "24/24 [==============================] - 3s 124ms/step - loss: 0.0038\n",
            "Epoch 71/100\n",
            "24/24 [==============================] - 3s 128ms/step - loss: 0.0041\n",
            "Epoch 72/100\n",
            "24/24 [==============================] - 3s 126ms/step - loss: 0.0032\n",
            "Epoch 73/100\n",
            "24/24 [==============================] - 3s 125ms/step - loss: 0.0032\n",
            "Epoch 74/100\n",
            "24/24 [==============================] - 3s 121ms/step - loss: 0.0033\n",
            "Epoch 75/100\n",
            "24/24 [==============================] - 3s 121ms/step - loss: 0.0035\n",
            "Epoch 76/100\n",
            "24/24 [==============================] - 3s 122ms/step - loss: 0.0037\n",
            "Epoch 77/100\n",
            "24/24 [==============================] - 3s 124ms/step - loss: 0.0042\n",
            "Epoch 78/100\n",
            "24/24 [==============================] - 3s 126ms/step - loss: 0.0036\n",
            "Epoch 79/100\n",
            "24/24 [==============================] - 3s 126ms/step - loss: 0.0032\n",
            "Epoch 80/100\n",
            "24/24 [==============================] - 3s 122ms/step - loss: 0.0034\n",
            "Epoch 81/100\n",
            "24/24 [==============================] - 3s 121ms/step - loss: 0.0040\n",
            "Epoch 82/100\n",
            "24/24 [==============================] - 3s 122ms/step - loss: 0.0033\n",
            "Epoch 83/100\n",
            "24/24 [==============================] - 3s 125ms/step - loss: 0.0037\n",
            "Epoch 84/100\n",
            "24/24 [==============================] - 3s 125ms/step - loss: 0.0035\n",
            "Epoch 85/100\n",
            "24/24 [==============================] - 3s 126ms/step - loss: 0.0032\n",
            "Epoch 86/100\n",
            "24/24 [==============================] - 3s 125ms/step - loss: 0.0035\n",
            "Epoch 87/100\n",
            "24/24 [==============================] - 3s 124ms/step - loss: 0.0030\n",
            "Epoch 88/100\n",
            "24/24 [==============================] - 3s 125ms/step - loss: 0.0029\n",
            "Epoch 89/100\n",
            "24/24 [==============================] - 3s 125ms/step - loss: 0.0032\n",
            "Epoch 90/100\n",
            "24/24 [==============================] - 3s 127ms/step - loss: 0.0033\n",
            "Epoch 91/100\n",
            "24/24 [==============================] - 3s 126ms/step - loss: 0.0034\n",
            "Epoch 92/100\n",
            "24/24 [==============================] - 3s 126ms/step - loss: 0.0031\n",
            "Epoch 93/100\n",
            "24/24 [==============================] - 3s 125ms/step - loss: 0.0033\n",
            "Epoch 94/100\n",
            "24/24 [==============================] - 3s 124ms/step - loss: 0.0033\n",
            "Epoch 95/100\n",
            "24/24 [==============================] - 3s 120ms/step - loss: 0.0034\n",
            "Epoch 96/100\n",
            "24/24 [==============================] - 3s 124ms/step - loss: 0.0034\n",
            "Epoch 97/100\n",
            "24/24 [==============================] - 3s 125ms/step - loss: 0.0034\n",
            "Epoch 98/100\n",
            "24/24 [==============================] - 3s 125ms/step - loss: 0.0026\n",
            "Epoch 99/100\n",
            "24/24 [==============================] - 3s 122ms/step - loss: 0.0031\n",
            "Epoch 100/100\n",
            "24/24 [==============================] - 3s 122ms/step - loss: 0.0032\n"
          ]
        },
        {
          "output_type": "execute_result",
          "data": {
            "text/plain": [
              "<keras.callbacks.History at 0x7f603d1215d0>"
            ]
          },
          "metadata": {},
          "execution_count": 12
        }
      ]
    },
    {
      "cell_type": "code",
      "metadata": {
        "colab": {
          "base_uri": "https://localhost:8080/"
        },
        "id": "isi2kSSDtWiD",
        "outputId": "9c48cd38-3999-4564-84fa-94d92b4642d3"
      },
      "source": [
        "# Getting the predicted stock price of 2017\n",
        "dataset_train = df.iloc[:800, 1:2]\n",
        "dataset_test = df.iloc[800:, 1:2]\n",
        "dataset_total = pd.concat((dataset_train, dataset_test), axis = 0)\n",
        "inputs = dataset_total[len(dataset_total) - len(dataset_test) - 60:].values\n",
        "inputs = inputs.reshape(-1,1)\n",
        "inputs = sc.transform(inputs)\n",
        "X_test = []\n",
        "for i in range(60, 519):\n",
        "    X_test.append(inputs[i-60:i, 0])\n",
        "X_test = np.array(X_test)\n",
        "X_test = np.reshape(X_test, (X_test.shape[0], X_test.shape[1], 1))\n",
        "print(X_test.shape)\n",
        "# (459, 60, 1)"
      ],
      "execution_count": 14,
      "outputs": [
        {
          "output_type": "stream",
          "name": "stdout",
          "text": [
            "(459, 60, 1)\n"
          ]
        }
      ]
    },
    {
      "cell_type": "code",
      "metadata": {
        "id": "BzxYrA0TuqCK"
      },
      "source": [
        "#Make Predictions using the test set\n",
        "predicted_stock_price = model.predict(X_test)\n",
        "predicted_stock_price = sc.inverse_transform(predicted_stock_price)"
      ],
      "execution_count": 15,
      "outputs": []
    },
    {
      "cell_type": "code",
      "metadata": {
        "colab": {
          "base_uri": "https://localhost:8080/",
          "height": 295
        },
        "id": "Ff1pWHEBuu2e",
        "outputId": "f7faaae5-6122-4c03-a739-d661d316209d"
      },
      "source": [
        "#visualize the results\n",
        "# Visualising the results\n",
        "plt.plot(df.loc[800:, \"Date\"],dataset_test.values, color = \"red\", label = \"Real TESLA Stock Price\")\n",
        "plt.plot(df.loc[800:, \"Date\"],predicted_stock_price, color = \"blue\", label = \"Predicted TESLA Stock Price\")\n",
        "plt.xticks(np.arange(0,459,50))\n",
        "plt.title('TESLA Stock Price Prediction')\n",
        "plt.xlabel('Time')\n",
        "plt.ylabel('TESLA Stock Price')\n",
        "plt.legend()\n",
        "plt.show()"
      ],
      "execution_count": 19,
      "outputs": [
        {
          "output_type": "display_data",
          "data": {
            "image/png": "[encoded data removed]",
            "text/plain": [
              "<Figure size 432x288 with 1 Axes>"
            ]
          },
          "metadata": {
            "needs_background": "light"
          }
        }
      ]
    },
    {
      "cell_type": "code",
      "metadata": {
        "id": "a6PjOMp6u2LL"
      },
      "source": [
        ""
      ],
      "execution_count": null,
      "outputs": []
    }
  ]
}